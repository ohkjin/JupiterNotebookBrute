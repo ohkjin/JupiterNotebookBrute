{
 "cells": [
  {
   "cell_type": "code",
   "execution_count": 13,
   "id": "2f9d2a47",
   "metadata": {},
   "outputs": [
    {
     "data": {
      "text/plain": [
       "'C:\\\\jupyter-notebook'"
      ]
     },
     "execution_count": 13,
     "metadata": {},
     "output_type": "execute_result"
    }
   ],
   "source": [
    "%pwd"
   ]
  },
  {
   "cell_type": "code",
   "execution_count": 15,
   "id": "f99eead0",
   "metadata": {},
   "outputs": [
    {
     "data": {
      "text/plain": [
       "(365,)"
      ]
     },
     "execution_count": 15,
     "metadata": {},
     "output_type": "execute_result"
    }
   ],
   "source": [
    "import numpy as np\n",
    "import pandas as pd\n",
    "rainfall = pd.read_csv('data/Seattle2014.csv')['PRCP'].values\n",
    "inches = rainfall/254 # 1/10mm->inches\n",
    "inches.shape"
   ]
  },
  {
   "cell_type": "code",
   "execution_count": 16,
   "id": "8b3fabe3",
   "metadata": {},
   "outputs": [
    {
     "data": {
      "image/png": "[encoded data removed]",
      "text/plain": [
       "<Figure size 640x480 with 1 Axes>"
      ]
     },
     "metadata": {},
     "output_type": "display_data"
    }
   ],
   "source": [
    "%matplotlib inline\n",
    "import matplotlib.pyplot as plt\n",
    "import seaborn; seaborn.set()\n",
    "plt.hist(inches,40);"
   ]
  },
  {
   "cell_type": "code",
   "execution_count": 12,
   "id": "eadac078",
   "metadata": {},
   "outputs": [
    {
     "data": {
      "image/png": "[encoded data removed]",
      "text/plain": [
       "<Figure size 640x480 with 1 Axes>"
      ]
     },
     "metadata": {},
     "output_type": "display_data"
    }
   ],
   "source": [
    "data = pd.read_csv('data/president_heights.csv')\n",
    "heights= np.array(data['height(cm)'])\n",
    "%matplotlib inline\n",
    "import matplotlib.pyplot as plt\n",
    "import seaborn; seaborn.set()\n",
    "\n",
    "plt.rc('font',family='Malgun Gothic')  # 한글깨짐 방지\n",
    "plt.hist(heights)\n",
    "plt.title('Height Distribution of US Presidents')\n",
    "plt.xlabel('height(cm)')\n",
    "plt.ylabel('넘버');"
   ]
  },
  {
   "cell_type": "code",
   "execution_count": null,
   "id": "8d0b909c",
   "metadata": {},
   "outputs": [],
   "source": [
    "In [217]: x=np.linspace(0,5,50)\n",
    "In [218]: y=np.linspace(0,5,50)[:,np.newaxis]\n",
    "In [219]: z=np.sin(x)**10+np.cos(10+y*x)*np.cos(x)\n",
    "\n",
    "In [220]: %matplotlib inline\n",
    "In [221]: import matplotlib.pyplot as plt\n",
    "\n",
    "In [222]: plt.imshow(z,origin='lower',extent=[0,5,0,5],cmap='viridis')\n",
    "     ...: plt.colorbar();\n",
    "# In case of '-' ERROR\n",
    "# https://matplotlib.org/stable/gallery/text_labels_and_annotations/unicode_minus.html"
   ]
  },
  {
   "cell_type": "markdown",
   "id": "72e10317",
   "metadata": {},
   "source": [
    "### Boolean"
   ]
  },
  {
   "cell_type": "code",
   "execution_count": 7,
   "id": "4d06d498",
   "metadata": {},
   "outputs": [],
   "source": [
    "a = np.arange(3)"
   ]
  },
  {
   "cell_type": "code",
   "execution_count": 8,
   "id": "05db23d7",
   "metadata": {},
   "outputs": [
    {
     "data": {
      "text/plain": [
       "array([0, 1, 2])"
      ]
     },
     "execution_count": 8,
     "metadata": {},
     "output_type": "execute_result"
    }
   ],
   "source": [
    "a"
   ]
  },
  {
   "cell_type": "code",
   "execution_count": 10,
   "id": "af494286",
   "metadata": {},
   "outputs": [
    {
     "data": {
      "text/plain": [
       "array([ True,  True,  True, False, False])"
      ]
     },
     "execution_count": 10,
     "metadata": {},
     "output_type": "execute_result"
    }
   ],
   "source": [
    "x=np.arange(0,5)\n",
    "x<3"
   ]
  },
  {
   "cell_type": "code",
   "execution_count": 12,
   "id": "f4fa59c0",
   "metadata": {},
   "outputs": [
    {
     "data": {
      "text/plain": [
       "3"
      ]
     },
     "execution_count": 12,
     "metadata": {},
     "output_type": "execute_result"
    }
   ],
   "source": [
    "np.sum(x<3,axis=0)"
   ]
  },
  {
   "cell_type": "code",
   "execution_count": 15,
   "id": "9971e36b",
   "metadata": {},
   "outputs": [
    {
     "data": {
      "text/plain": [
       "array([0, 1, 2])"
      ]
     },
     "execution_count": 15,
     "metadata": {},
     "output_type": "execute_result"
    }
   ],
   "source": [
    "x[x<3]"
   ]
  },
  {
   "cell_type": "markdown",
   "id": "72e8c7a6",
   "metadata": {},
   "source": [
    "### Fancy Indexing"
   ]
  },
  {
   "cell_type": "code",
   "execution_count": 22,
   "id": "2ce39bfa",
   "metadata": {},
   "outputs": [
    {
     "data": {
      "text/plain": [
       "array([51, 92, 14, 71, 60, 20, 82, 86, 74, 74])"
      ]
     },
     "execution_count": 22,
     "metadata": {},
     "output_type": "execute_result"
    }
   ],
   "source": [
    "import numpy as np\n",
    "rand = np.random.RandomState(42)\n",
    "x = rand.randint(100,size=10)\n",
    "x"
   ]
  },
  {
   "cell_type": "code",
   "execution_count": 23,
   "id": "28b11faf",
   "metadata": {},
   "outputs": [
    {
     "data": {
      "text/plain": [
       "array([71, 86, 60])"
      ]
     },
     "execution_count": 23,
     "metadata": {},
     "output_type": "execute_result"
    }
   ],
   "source": [
    "ind = [3,7,4]\n",
    "x[ind] #fancy indexing"
   ]
  },
  {
   "cell_type": "code",
   "execution_count": 30,
   "id": "6bb9facd",
   "metadata": {},
   "outputs": [
    {
     "data": {
      "text/plain": [
       "array([[71, 86],\n",
       "       [60, 92]])"
      ]
     },
     "execution_count": 30,
     "metadata": {},
     "output_type": "execute_result"
    }
   ],
   "source": [
    "ind = np.array([[3,7],[4,1]])\n",
    "x[ind] # index 형식대로 나옴"
   ]
  },
  {
   "cell_type": "code",
   "execution_count": 37,
   "id": "24ec7bd6",
   "metadata": {},
   "outputs": [
    {
     "data": {
      "text/plain": [
       "array([[ 0,  1,  2,  3],\n",
       "       [ 4,  5,  6,  7],\n",
       "       [ 8,  9, 10, 11]])"
      ]
     },
     "execution_count": 37,
     "metadata": {},
     "output_type": "execute_result"
    }
   ],
   "source": [
    "X = np.arange(12).reshape((3,4))\n",
    "X"
   ]
  },
  {
   "cell_type": "code",
   "execution_count": 36,
   "id": "faf1cbf7",
   "metadata": {},
   "outputs": [
    {
     "data": {
      "text/plain": [
       "array([ 2,  5, 11])"
      ]
     },
     "execution_count": 36,
     "metadata": {},
     "output_type": "execute_result"
    }
   ],
   "source": [
    "# pair indexing: row,col 배열을 조합하여 결과 도출\n",
    "row = np.array([0,1,2])\n",
    "col = np.array([2,1,3])\n",
    "X[row,col]"
   ]
  },
  {
   "cell_type": "code",
   "execution_count": 42,
   "id": "915ba20b",
   "metadata": {},
   "outputs": [
    {
     "data": {
      "text/plain": [
       "array([[0, 0, 0],\n",
       "       [2, 1, 3],\n",
       "       [4, 2, 6]])"
      ]
     },
     "execution_count": 42,
     "metadata": {},
     "output_type": "execute_result"
    }
   ],
   "source": [
    "row[:,np.newaxis]*col"
   ]
  },
  {
   "cell_type": "code",
   "execution_count": 40,
   "id": "3dae8a03",
   "metadata": {},
   "outputs": [
    {
     "data": {
      "text/plain": [
       "array([[ 2,  1,  3],\n",
       "       [ 6,  5,  7],\n",
       "       [10,  9, 11]])"
      ]
     },
     "execution_count": 40,
     "metadata": {},
     "output_type": "execute_result"
    }
   ],
   "source": [
    "X[row[:,np.newaxis],col] #BroadCasting\n",
    "# [[0],2] BroadCasting => [[0],[2,1,3]]"
   ]
  },
  {
   "cell_type": "code",
   "execution_count": 44,
   "id": "a3389619",
   "metadata": {},
   "outputs": [
    {
     "data": {
      "text/plain": [
       "array([2, 1, 3])"
      ]
     },
     "execution_count": 44,
     "metadata": {},
     "output_type": "execute_result"
    }
   ],
   "source": [
    "X[[0],col]"
   ]
  },
  {
   "cell_type": "code",
   "execution_count": 45,
   "id": "90487116",
   "metadata": {},
   "outputs": [
    {
     "data": {
      "text/plain": [
       "array([[ 0,  2],\n",
       "       [ 4,  6],\n",
       "       [ 8, 10]])"
      ]
     },
     "execution_count": 45,
     "metadata": {},
     "output_type": "execute_result"
    }
   ],
   "source": [
    "mask = np.array([1,0,1,0],dtype=bool)\n",
    "X[row[:,np.newaxis],mask] #행 인덱스는 슬라이싱, 열 인덱스는 마스크"
   ]
  },
  {
   "cell_type": "code",
   "execution_count": 46,
   "id": "472b059a",
   "metadata": {},
   "outputs": [
    {
     "data": {
      "text/plain": [
       "(100, 2)"
      ]
     },
     "execution_count": 46,
     "metadata": {},
     "output_type": "execute_result"
    }
   ],
   "source": [
    "mean = [0,0]\n",
    "cov = [[1,2],\n",
    "       [2,5]]\n",
    "# Covariance matrix of the distribution\n",
    "# Random 100 dots \n",
    "X = rand.multivariate_normal(mean,cov,100)\n",
    "X.shape"
   ]
  },
  {
   "cell_type": "code",
   "execution_count": 47,
   "id": "8f076ef2",
   "metadata": {},
   "outputs": [
    {
     "data": {
      "text/plain": [
       "<matplotlib.collections.PathCollection at 0x1e7bd857708>"
      ]
     },
     "execution_count": 47,
     "metadata": {},
     "output_type": "execute_result"
    },
    {
     "data": {
      "image/png": "[encoded data removed]",
      "text/plain": [
       "<Figure size 640x480 with 1 Axes>"
      ]
     },
     "metadata": {},
     "output_type": "display_data"
    }
   ],
   "source": [
    "%matplotlib inline\n",
    "import matplotlib.pyplot as plt\n",
    "import seaborn; seaborn.set()\n",
    "plt.scatter(X[:,0],X[:,1])"
   ]
  },
  {
   "cell_type": "code",
   "execution_count": 48,
   "id": "7ee5f6dc",
   "metadata": {},
   "outputs": [
    {
     "data": {
      "text/plain": [
       "array([39, 44, 60, 76, 87, 64, 92, 57, 99, 21, 75, 94, 15, 13, 23, 48, 25,\n",
       "       36,  4, 19])"
      ]
     },
     "execution_count": 48,
     "metadata": {},
     "output_type": "execute_result"
    }
   ],
   "source": [
    "indices = np.random.choice(X.shape[0],20, replace=False)\n",
    "indices"
   ]
  },
  {
   "cell_type": "code",
   "execution_count": 49,
   "id": "59587510",
   "metadata": {},
   "outputs": [
    {
     "data": {
      "text/plain": [
       "(20, 2)"
      ]
     },
     "execution_count": 49,
     "metadata": {},
     "output_type": "execute_result"
    }
   ],
   "source": [
    "selection = X[indices]\n",
    "selection.shape"
   ]
  },
  {
   "cell_type": "code",
   "execution_count": 60,
   "id": "8e1720cc",
   "metadata": {},
   "outputs": [
    {
     "data": {
      "text/plain": [
       "<matplotlib.collections.PathCollection at 0x1e7bddbcc08>"
      ]
     },
     "execution_count": 60,
     "metadata": {},
     "output_type": "execute_result"
    },
    {
     "data": {
      "image/png": "[encoded data removed]",
      "text/plain": [
       "<Figure size 640x480 with 1 Axes>"
      ]
     },
     "metadata": {},
     "output_type": "display_data"
    }
   ],
   "source": [
    "plt.scatter(X[:,0],X[:,1],alpha=0.5)\n",
    "plt.scatter(selection[:,0],selection[:,1],facecolor='none',color='gray',s=200)"
   ]
  },
  {
   "cell_type": "code",
   "execution_count": 61,
   "id": "1f22b2d5",
   "metadata": {},
   "outputs": [
    {
     "name": "stdout",
     "output_type": "stream",
     "text": [
      "[ 0 49 49  3 49  5  6  7 49  9]\n"
     ]
    }
   ],
   "source": [
    "# 특정값 삽입, 변경 가능\n",
    "x = np.arange(10)\n",
    "i = np.array([2,4,1,8])\n",
    "x[i]=99\n",
    "x[i]-= 50\n",
    "print(x)"
   ]
  },
  {
   "cell_type": "code",
   "execution_count": null,
   "id": "d1dc6aed",
   "metadata": {},
   "outputs": [],
   "source": [
    "# 중복 사용 시 주의\n",
    "x[[0,0]] = [100,200]\n",
    "# index 0에 뒤에 값이 될 가능성 높음"
   ]
  },
  {
   "cell_type": "code",
   "execution_count": 71,
   "id": "8e910fba",
   "metadata": {},
   "outputs": [
    {
     "data": {
      "text/plain": [
       "array([0., 0., 1., 1., 1., 0., 0., 0., 0., 0.])"
      ]
     },
     "execution_count": 71,
     "metadata": {},
     "output_type": "execute_result"
    }
   ],
   "source": [
    "import numpy as np\n",
    "x= np.zeros(10)\n",
    "i = [2,3,3,4,4,4]\n",
    "x[i]+=1\n",
    "x"
   ]
  },
  {
   "cell_type": "code",
   "execution_count": 63,
   "id": "fec0c658",
   "metadata": {},
   "outputs": [
    {
     "data": {
      "text/plain": [
       "array([0., 0., 1., 2., 3., 0., 0., 0., 0., 0.])"
      ]
     },
     "execution_count": 63,
     "metadata": {},
     "output_type": "execute_result"
    }
   ],
   "source": [
    "# Use np.bincount to accumulate values at repeated indices\n",
    "x= np.zeros(10)\n",
    "x += np.bincount(i, minlength=len(x))\n",
    "x"
   ]
  },
  {
   "cell_type": "code",
   "execution_count": 72,
   "id": "c5bd2add",
   "metadata": {},
   "outputs": [
    {
     "data": {
      "text/plain": [
       "array([0., 0., 3., 5., 7., 0., 0., 0., 0., 0.])"
      ]
     },
     "execution_count": 72,
     "metadata": {},
     "output_type": "execute_result"
    }
   ],
   "source": [
    "np.add.at(x,i,2)\n",
    "x"
   ]
  },
  {
   "cell_type": "code",
   "execution_count": 76,
   "id": "f2caeb5a",
   "metadata": {},
   "outputs": [
    {
     "data": {
      "text/plain": [
       "[<matplotlib.lines.Line2D at 0x1e7bc773708>]"
      ]
     },
     "execution_count": 76,
     "metadata": {},
     "output_type": "execute_result"
    },
    {
     "data": {
      "image/png": "[encoded data removed]",
      "text/plain": [
       "<Figure size 640x480 with 1 Axes>"
      ]
     },
     "metadata": {},
     "output_type": "display_data"
    }
   ],
   "source": [
    "np.random.seed(42)\n",
    "x=np.random.randn(100)\n",
    "#직접 히스토그램 계산하기\n",
    "bins = np.linspace(-5,5,20)\n",
    "counts = np.zeros_like(bins)\n",
    "\n",
    "# 각 x에 대한 적절한 구간찾기\n",
    "i = np.searchsorted(bins,x)\n",
    "np.add.at(counts,i,1)\n",
    "\n",
    "plt.plot(bins,counts,drawstyle='steps')"
   ]
  },
  {
   "cell_type": "markdown",
   "id": "1df508d8",
   "metadata": {},
   "source": [
    "### Array Sort"
   ]
  },
  {
   "cell_type": "code",
   "execution_count": 87,
   "id": "3b0a8102",
   "metadata": {},
   "outputs": [
    {
     "name": "stdout",
     "output_type": "stream",
     "text": [
      "[1, 1, 2, 3, 4, 5, 6, 9]\n",
      "[3, 1, 4, 1, 5, 9, 2, 6]\n",
      "[1, 1, 2, 3, 4, 5, 6, 9]\n"
     ]
    }
   ],
   "source": [
    "L = [3,1,4,1,5,9,2,6]\n",
    "# L은 바뀌지 않음\n",
    "print(sorted(L))\n",
    "print(L)\n",
    "# L 바뀜\n",
    "L.sort()\n",
    "print(L)"
   ]
  },
  {
   "cell_type": "code",
   "execution_count": 92,
   "id": "73b9ed3d",
   "metadata": {},
   "outputs": [
    {
     "name": "stdout",
     "output_type": "stream",
     "text": [
      "[1 3 6 0 2 4 7 5]\n"
     ]
    },
    {
     "data": {
      "text/plain": [
       "array([1, 1, 2, 3, 4, 5, 6, 9])"
      ]
     },
     "execution_count": 92,
     "metadata": {},
     "output_type": "execute_result"
    }
   ],
   "source": [
    "L = np.array([3,1,4,1,5,9,2,6])\n",
    "np.sort(L)\n",
    "i = np.argsort(L) # 정렬된 인덱스만\n",
    "# original index before sorting\n",
    "print(i)\n",
    "L[i] #인덱스로 정렬"
   ]
  },
  {
   "cell_type": "code",
   "execution_count": 97,
   "id": "fab41fea",
   "metadata": {},
   "outputs": [
    {
     "name": "stdout",
     "output_type": "stream",
     "text": [
      "[[6 3 7 4 6]\n",
      " [9 2 6 7 4]\n",
      " [3 7 7 2 5]]\n",
      "[[3 2 6 2 4]\n",
      " [6 3 7 4 5]\n",
      " [9 7 7 7 6]]\n",
      "[[3 4 6 6 7]\n",
      " [2 4 6 7 9]\n",
      " [2 3 5 7 7]]\n"
     ]
    }
   ],
   "source": [
    "rand = np.random.RandomState(42)\n",
    "X = rand.randint(0,10,(3,5))\n",
    "print(X)\n",
    "# X의 각 열 정렬\n",
    "print(np.sort(X,axis=0))\n",
    "# X의 각 행 정렬\n",
    "print(np.sort(X,axis=1))"
   ]
  },
  {
   "cell_type": "code",
   "execution_count": 103,
   "id": "79b68ec7",
   "metadata": {},
   "outputs": [
    {
     "name": "stdout",
     "output_type": "stream",
     "text": [
      "[[3 4 7 6 6]\n",
      " [2 4 6 7 9]\n",
      " [2 3 7 7 5]]\n",
      "[[3 4 6 7 6]\n",
      " [2 4 6 7 9]\n",
      " [2 3 5 7 7]]\n"
     ]
    }
   ],
   "source": [
    "print(np.partition(X,1,axis=1))\n",
    "print(np.partition(X,2,axis=1))\n",
    "#np.partition(~, 2)와 같은 경우는 리스트에서 순서 상관없이 작은 숫자 2개를 뽑아 왼쪽으로 놓겠다는 의미\n",
    "\n",
    "#np.partition(~, -2)와 같은 경우는 리스트에서 순서 상관없이 큰 값 2개를 뽑아 오른쪽으로 놓겠다는 의미이다."
   ]
  },
  {
   "cell_type": "code",
   "execution_count": 113,
   "id": "37d71b6c",
   "metadata": {},
   "outputs": [
    {
     "name": "stdout",
     "output_type": "stream",
     "text": [
      "[[0.84228477 0.44975413]\n",
      " [0.39515024 0.92665887]\n",
      " [0.727272   0.32654077]\n",
      " [0.57044397 0.52083426]\n",
      " [0.96117202 0.84453385]\n",
      " [0.74732011 0.53969213]\n",
      " [0.58675117 0.96525531]\n",
      " [0.60703425 0.27599918]\n",
      " [0.29627351 0.16526694]\n",
      " [0.01563641 0.42340148]]\n"
     ]
    },
    {
     "data": {
      "image/png": "[encoded data removed]",
      "text/plain": [
       "<Figure size 640x480 with 1 Axes>"
      ]
     },
     "metadata": {},
     "output_type": "display_data"
    }
   ],
   "source": [
    "#2차원 평면에 임의의 점 10개의 집합(2D)\n",
    "X=rand.rand(10,2)\n",
    "%matplotlib inline\n",
    "import matplotlib.pyplot as plt\n",
    "import seaborn; seaborn.set()\n",
    "plt.scatter(X[:,0],X[:,1],s=100)\n",
    "print(X)"
   ]
  },
  {
   "cell_type": "code",
   "execution_count": 106,
   "id": "b85d9206",
   "metadata": {},
   "outputs": [],
   "source": [
    "dist_sq = np.sum((X[:,np.newaxis,:]-X[np.newaxis,:,:])**2,axis=-1)\n",
    "dist_sq"
   ]
  },
  {
   "cell_type": "code",
   "execution_count": 115,
   "id": "cc107c31",
   "metadata": {},
   "outputs": [
    {
     "name": "stdout",
     "output_type": "stream",
     "text": [
      "[[[0.84228477 0.44975413]]\n",
      "\n",
      " [[0.39515024 0.92665887]]\n",
      "\n",
      " [[0.727272   0.32654077]]\n",
      "\n",
      " [[0.57044397 0.52083426]]\n",
      "\n",
      " [[0.96117202 0.84453385]]\n",
      "\n",
      " [[0.74732011 0.53969213]]\n",
      "\n",
      " [[0.58675117 0.96525531]]\n",
      "\n",
      " [[0.60703425 0.27599918]]\n",
      "\n",
      " [[0.29627351 0.16526694]]\n",
      "\n",
      " [[0.01563641 0.42340148]]]\n",
      "[[[0.84228477 0.44975413]\n",
      "  [0.39515024 0.92665887]\n",
      "  [0.727272   0.32654077]\n",
      "  [0.57044397 0.52083426]\n",
      "  [0.96117202 0.84453385]\n",
      "  [0.74732011 0.53969213]\n",
      "  [0.58675117 0.96525531]\n",
      "  [0.60703425 0.27599918]\n",
      "  [0.29627351 0.16526694]\n",
      "  [0.01563641 0.42340148]]]\n"
     ]
    }
   ],
   "source": [
    "print(X[:,np.newaxis,:])\n",
    "print(X[np.newaxis,:,:])"
   ]
  },
  {
   "cell_type": "code",
   "execution_count": 119,
   "id": "b7f46b7d",
   "metadata": {},
   "outputs": [
    {
     "name": "stdout",
     "output_type": "stream",
     "text": [
      "[[0.         0.42736742 0.02840947 0.07894981 0.1699852  0.01710713\n",
      "  0.33103889 0.08553359 0.37906127 0.68404199]\n",
      " [0.42736742 0.         0.47044659 0.19542151 0.32712518 0.27376687\n",
      "  0.0382006  0.46825286 0.58949427 0.39729874]\n",
      " [0.02840947 0.47044659 0.         0.06234499 0.32302605 0.04583543\n",
      "  0.42770237 0.01701157 0.21176895 0.51580721]\n",
      " [0.07894981 0.19542151 0.06234499 0.         0.25744983 0.03164079\n",
      "  0.19777599 0.06128306 0.20159757 0.31730458]\n",
      " [0.1699852  0.32712518 0.32302605 0.25744983 0.         0.13866111\n",
      "  0.15476465 0.44864523 0.90349357 1.07139008]\n",
      " [0.01710713 0.27376687 0.04583543 0.03164079 0.13866111 0.\n",
      "  0.2068864  0.0892141  0.34363726 0.54888456]\n",
      " [0.33103889 0.0382006  0.42770237 0.19777599 0.15476465 0.2068864\n",
      "  0.         0.47548541 0.72435866 0.61977764]\n",
      " [0.08553359 0.46825286 0.01701157 0.06128306 0.44864523 0.0892141\n",
      "  0.47548541 0.         0.10883387 0.37147884]\n",
      " [0.37906127 0.58949427 0.21176895 0.20159757 0.90349357 0.34363726\n",
      "  0.72435866 0.10883387 0.         0.14539062]\n",
      " [0.68404199 0.39729874 0.51580721 0.31730458 1.07139008 0.54888456\n",
      "  0.61977764 0.37147884 0.14539062 0.        ]]\n"
     ]
    }
   ],
   "source": [
    "# -- 각 쌍의 점 사이의 좌표 차이 계산(For Every Couple)\n",
    "differences = X[:,np.newaxis,:]-X[np.newaxis,:,:] #BroadCasting?\n",
    "differences.shape # (10, 10, 2)\n",
    "# print(differences)\n",
    "\n",
    "# -- 제곱 \n",
    "sq_differences = differences **2\n",
    "sq_differences.shape # (10, 10, 2)\n",
    "# print(sq_differences)\n",
    "\n",
    "# -- 거리를 위해서 좌표차이를 제곱 후 더함\n",
    "dist_sq= sq_differences.sum(-1)\n",
    "dist_sq.shape # (10, 10)\n",
    "print(dist_sq)"
   ]
  },
  {
   "cell_type": "code",
   "execution_count": 123,
   "id": "6752650d",
   "metadata": {},
   "outputs": [
    {
     "data": {
      "text/plain": [
       "array([6, 0])"
      ]
     },
     "execution_count": 123,
     "metadata": {},
     "output_type": "execute_result"
    }
   ],
   "source": [
    "# axis=-1 means that the sum will be calculated along the last axis of the array. In a 2D array, the last axis is the column axis. \n",
    "a = np.array([[1,2,3],[0,0,0]])\n",
    "a.sum(-1)"
   ]
  },
  {
   "cell_type": "code",
   "execution_count": 124,
   "id": "3994a4df",
   "metadata": {},
   "outputs": [
    {
     "data": {
      "text/plain": [
       "array([0., 0., 0., 0., 0., 0., 0., 0., 0., 0.])"
      ]
     },
     "execution_count": 124,
     "metadata": {},
     "output_type": "execute_result"
    }
   ],
   "source": [
    "#To check if distance for oneselves are all zero\n",
    "dist_sq.diagonal()"
   ]
  },
  {
   "cell_type": "code",
   "execution_count": 126,
   "id": "5799c597",
   "metadata": {},
   "outputs": [
    {
     "data": {
      "text/plain": [
       "array([[0, 5, 2, 3, 7, 4, 6, 8, 1, 9],\n",
       "       [1, 6, 3, 5, 4, 9, 0, 7, 2, 8],\n",
       "       [2, 7, 0, 5, 3, 8, 4, 6, 1, 9],\n",
       "       [3, 5, 7, 2, 0, 1, 6, 8, 4, 9],\n",
       "       [4, 5, 6, 0, 3, 2, 1, 7, 8, 9],\n",
       "       [5, 0, 3, 2, 7, 4, 6, 1, 8, 9],\n",
       "       [6, 1, 4, 3, 5, 0, 2, 7, 9, 8],\n",
       "       [7, 2, 3, 0, 5, 8, 9, 4, 1, 6],\n",
       "       [8, 7, 9, 3, 2, 5, 0, 1, 6, 4],\n",
       "       [9, 8, 3, 7, 1, 2, 5, 6, 0, 4]], dtype=int64)"
      ]
     },
     "execution_count": 126,
     "metadata": {},
     "output_type": "execute_result"
    }
   ],
   "source": [
    "# Getting the nearest index for the most left col\n",
    "nearest = np.argsort(dist_sq,axis=1)\n",
    "nearest"
   ]
  },
  {
   "cell_type": "code",
   "execution_count": 139,
   "id": "8d74afa4",
   "metadata": {},
   "outputs": [
    {
     "data": {
      "image/png": "[encoded data removed]",
      "text/plain": [
       "<Figure size 640x480 with 1 Axes>"
      ]
     },
     "metadata": {},
     "output_type": "display_data"
    }
   ],
   "source": [
    "K = 2 # for the two nearest value\n",
    "nearest_partition = np.argpartition(dist_sq,K+1,axis=1)\n",
    "plt.scatter(X[:,0],X[:,1],s=100)\n",
    "for i in range(X.shape[0]):\n",
    "    for j in nearest_partition[i,:K+1]:\n",
    "        # X[i] to X[j], create line\n",
    "        # use magic func: zip\n",
    "        plt.plot(*zip(X[j],X[i]),color='blue' )\n",
    "        plt.text(X[i,0], X[i,1], str(i))"
   ]
  },
  {
   "cell_type": "markdown",
   "id": "cf61c34a",
   "metadata": {},
   "source": [
    "## DATA\n",
    "data frame\n",
    "데이터 전처리, 변환 :cleansing\n",
    "data muniging "
   ]
  },
  {
   "cell_type": "code",
   "execution_count": null,
   "id": "34ca8c4e",
   "metadata": {},
   "outputs": [],
   "source": [
    "import numpy as np\n",
    "name = ['Alice','Bob','Cathy','Doug']\n",
    "age = [25.34.56.11]\n",
    "weight = [55.0,57.5, 45.7,76.3]"
   ]
  },
  {
   "cell_type": "code",
   "execution_count": null,
   "id": "9f78172b",
   "metadata": {},
   "outputs": [],
   "source": [
    "x = np.zeros(4,dtype=int)"
   ]
  },
  {
   "cell_type": "code",
   "execution_count": 142,
   "id": "7c3cfd1e",
   "metadata": {},
   "outputs": [
    {
     "ename": "ValueError",
     "evalue": "invalid literal for int() with base 10: 'age'",
     "output_type": "error",
     "traceback": [
      "\u001b[1;31m---------------------------------------------------------------------------\u001b[0m",
      "\u001b[1;31mValueError\u001b[0m                                Traceback (most recent call last)",
      "\u001b[1;32m~\\AppData\\Local\\Temp\\ipykernel_17352\\102314488.py\u001b[0m in \u001b[0;36m<module>\u001b[1;34m\u001b[0m\n\u001b[0;32m      1\u001b[0m \u001b[1;31m# 구조화된 배열을 위해 복합 데이터 타입 사용\u001b[0m\u001b[1;33m\u001b[0m\u001b[1;33m\u001b[0m\u001b[1;33m\u001b[0m\u001b[0m\n\u001b[1;32m----> 2\u001b[1;33m \u001b[0mdata\u001b[0m \u001b[1;33m=\u001b[0m \u001b[0mnp\u001b[0m\u001b[1;33m.\u001b[0m\u001b[0mzeros\u001b[0m\u001b[1;33m(\u001b[0m\u001b[1;36m4\u001b[0m\u001b[1;33m,\u001b[0m\u001b[0mdtype\u001b[0m\u001b[1;33m=\u001b[0m\u001b[1;33m{\u001b[0m\u001b[1;34m'name'\u001b[0m\u001b[1;33m:\u001b[0m\u001b[1;33m(\u001b[0m\u001b[1;34m'name'\u001b[0m\u001b[1;33m,\u001b[0m\u001b[1;34m'age'\u001b[0m\u001b[1;33m,\u001b[0m\u001b[1;34m'weight'\u001b[0m\u001b[1;33m)\u001b[0m\u001b[1;33m,\u001b[0m\u001b[1;34m'formats'\u001b[0m\u001b[1;33m:\u001b[0m\u001b[1;33m(\u001b[0m\u001b[1;34m'U10'\u001b[0m\u001b[1;33m,\u001b[0m\u001b[1;34m'i4'\u001b[0m\u001b[1;33m,\u001b[0m\u001b[1;34m'f8'\u001b[0m\u001b[1;33m)\u001b[0m\u001b[1;33m}\u001b[0m\u001b[1;33m)\u001b[0m\u001b[1;33m\u001b[0m\u001b[1;33m\u001b[0m\u001b[0m\n\u001b[0m\u001b[0;32m      3\u001b[0m \u001b[0mprint\u001b[0m\u001b[1;33m(\u001b[0m\u001b[0mdata\u001b[0m\u001b[1;33m.\u001b[0m\u001b[0mdtype\u001b[0m\u001b[1;33m)\u001b[0m\u001b[1;33m\u001b[0m\u001b[1;33m\u001b[0m\u001b[0m\n\u001b[0;32m      4\u001b[0m \u001b[1;31m# [('name','<U10'),('age','<i4'),('weight','<f8')]\u001b[0m\u001b[1;33m\u001b[0m\u001b[1;33m\u001b[0m\u001b[1;33m\u001b[0m\u001b[0m\n",
      "\u001b[1;32mc:\\users\\user\\appdata\\local\\programs\\python\\python37\\lib\\site-packages\\numpy\\core\\_internal.py\u001b[0m in \u001b[0;36m_usefields\u001b[1;34m(adict, align)\u001b[0m\n\u001b[0;32m     60\u001b[0m         \u001b[0mnames\u001b[0m \u001b[1;33m=\u001b[0m \u001b[1;32mNone\u001b[0m\u001b[1;33m\u001b[0m\u001b[1;33m\u001b[0m\u001b[0m\n\u001b[0;32m     61\u001b[0m     \u001b[1;32mif\u001b[0m \u001b[0mnames\u001b[0m \u001b[1;32mis\u001b[0m \u001b[1;32mNone\u001b[0m\u001b[1;33m:\u001b[0m\u001b[1;33m\u001b[0m\u001b[1;33m\u001b[0m\u001b[0m\n\u001b[1;32m---> 62\u001b[1;33m         \u001b[0mnames\u001b[0m\u001b[1;33m,\u001b[0m \u001b[0mformats\u001b[0m\u001b[1;33m,\u001b[0m \u001b[0moffsets\u001b[0m\u001b[1;33m,\u001b[0m \u001b[0mtitles\u001b[0m \u001b[1;33m=\u001b[0m \u001b[0m_makenames_list\u001b[0m\u001b[1;33m(\u001b[0m\u001b[0madict\u001b[0m\u001b[1;33m,\u001b[0m \u001b[0malign\u001b[0m\u001b[1;33m)\u001b[0m\u001b[1;33m\u001b[0m\u001b[1;33m\u001b[0m\u001b[0m\n\u001b[0m\u001b[0;32m     63\u001b[0m     \u001b[1;32melse\u001b[0m\u001b[1;33m:\u001b[0m\u001b[1;33m\u001b[0m\u001b[1;33m\u001b[0m\u001b[0m\n\u001b[0;32m     64\u001b[0m         \u001b[0mformats\u001b[0m \u001b[1;33m=\u001b[0m \u001b[1;33m[\u001b[0m\u001b[1;33m]\u001b[0m\u001b[1;33m\u001b[0m\u001b[1;33m\u001b[0m\u001b[0m\n",
      "\u001b[1;32mc:\\users\\user\\appdata\\local\\programs\\python\\python37\\lib\\site-packages\\numpy\\core\\_internal.py\u001b[0m in \u001b[0;36m_makenames_list\u001b[1;34m(adict, align)\u001b[0m\n\u001b[0;32m     33\u001b[0m         \u001b[1;32mif\u001b[0m \u001b[0mn\u001b[0m \u001b[1;33m>\u001b[0m \u001b[1;36m2\u001b[0m \u001b[1;32mand\u001b[0m \u001b[0mobj\u001b[0m\u001b[1;33m[\u001b[0m\u001b[1;36m2\u001b[0m\u001b[1;33m]\u001b[0m \u001b[1;33m==\u001b[0m \u001b[0mfname\u001b[0m\u001b[1;33m:\u001b[0m\u001b[1;33m\u001b[0m\u001b[1;33m\u001b[0m\u001b[0m\n\u001b[0;32m     34\u001b[0m             \u001b[1;32mcontinue\u001b[0m\u001b[1;33m\u001b[0m\u001b[1;33m\u001b[0m\u001b[0m\n\u001b[1;32m---> 35\u001b[1;33m         \u001b[0mnum\u001b[0m \u001b[1;33m=\u001b[0m \u001b[0mint\u001b[0m\u001b[1;33m(\u001b[0m\u001b[0mobj\u001b[0m\u001b[1;33m[\u001b[0m\u001b[1;36m1\u001b[0m\u001b[1;33m]\u001b[0m\u001b[1;33m)\u001b[0m\u001b[1;33m\u001b[0m\u001b[1;33m\u001b[0m\u001b[0m\n\u001b[0m\u001b[0;32m     36\u001b[0m         \u001b[1;32mif\u001b[0m \u001b[0mnum\u001b[0m \u001b[1;33m<\u001b[0m \u001b[1;36m0\u001b[0m\u001b[1;33m:\u001b[0m\u001b[1;33m\u001b[0m\u001b[1;33m\u001b[0m\u001b[0m\n\u001b[0;32m     37\u001b[0m             \u001b[1;32mraise\u001b[0m \u001b[0mValueError\u001b[0m\u001b[1;33m(\u001b[0m\u001b[1;34m\"invalid offset.\"\u001b[0m\u001b[1;33m)\u001b[0m\u001b[1;33m\u001b[0m\u001b[1;33m\u001b[0m\u001b[0m\n",
      "\u001b[1;31mValueError\u001b[0m: invalid literal for int() with base 10: 'age'"
     ]
    }
   ],
   "source": [
    "# 구조화된 배열을 위해 복합 데이터 타입 사용\n",
    "data = np.zeros(4,dtype={'name':('name','age','weight'),'formats':('U10','i4','f8')})\n",
    "print(data.dtype)\n",
    "[('name','<U10'),('age','<i4'),('weight','<f8')]"
   ]
  },
  {
   "cell_type": "code",
   "execution_count": null,
   "id": "8edd4792",
   "metadata": {},
   "outputs": [],
   "source": []
  }
 ],
 "metadata": {
  "kernelspec": {
   "display_name": "Python 3 (ipykernel)",
   "language": "python",
   "name": "python3"
  },
  "language_info": {
   "codemirror_mode": {
    "name": "ipython",
    "version": 3
   },
   "file_extension": ".py",
   "mimetype": "text/x-python",
   "name": "python",
   "nbconvert_exporter": "python",
   "pygments_lexer": "ipython3",
   "version": "3.7.6"
  }
 },
 "nbformat": 4,
 "nbformat_minor": 5
}
